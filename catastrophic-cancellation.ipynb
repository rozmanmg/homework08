{
 "cells": [
  {
   "cell_type": "markdown",
   "id": "fc6f8958-a913-48c8-b8a3-c6d804b2dcc0",
   "metadata": {},
   "source": [
    "# An example of catastrophic cancellation"
   ]
  },
  {
   "cell_type": "code",
   "execution_count": null,
   "id": "a0fddc9e-1b5d-4daa-be07-6e3772ed0ac6",
   "metadata": {},
   "outputs": [],
   "source": [
    "\n",
    "using PyPlot"
   ]
  },
  {
   "cell_type": "code",
   "execution_count": null,
   "id": "102eac95-c3a3-4385-8be1-c5c366981841",
   "metadata": {},
   "outputs": [],
   "source": [
    "\n",
    "const a = 1e7\n",
    "phi(x) = # your code here"
   ]
  },
  {
   "cell_type": "code",
   "execution_count": null,
   "id": "674726d5-a460-4c1e-9e18-28937d66932c",
   "metadata": {},
   "outputs": [],
   "source": [
    "\n",
    "xx = range(1e-10, 1e-8, 30)\n",
    "yy = phi.(xx);"
   ]
  },
  {
   "cell_type": "code",
   "execution_count": null,
   "id": "c38866fd-e360-4f7b-a5e5-ce61d586a131",
   "metadata": {},
   "outputs": [],
   "source": [
    "\n",
    "plot(xx, yy, marker=\".\", label=\"original expression\")\n",
    "grid(true)\n",
    "xlabel(L\"x\")\n",
    "ylabel(L\"\\phi(x)\")\n",
    "title(\"An example of catastrophic cancellations\");"
   ]
  },
  {
   "cell_type": "code",
   "execution_count": null,
   "id": "d35c5db2-90d7-4872-b570-465be1814740",
   "metadata": {},
   "outputs": [],
   "source": [
    "\n",
    "psi(x) = # your code here"
   ]
  },
  {
   "cell_type": "code",
   "execution_count": null,
   "id": "2e2d556c-4cd6-49a2-8bfe-c4648d201d88",
   "metadata": {},
   "outputs": [],
   "source": [
    "\n",
    "x1 = range(0.1, 2.6, 50)\n",
    "y1 = phi.(x1)\n",
    "z1 = psi.(x1);"
   ]
  },
  {
   "cell_type": "code",
   "execution_count": null,
   "id": "82496e29-235f-4a5f-8f23-64b3c0ce93ad",
   "metadata": {},
   "outputs": [],
   "source": [
    "\n",
    "plot(x1, y1, marker=\".\", linestyle=\"none\", label=L\"$\\phi(x)$\")\n",
    "plot(x1, z1, label=L\"$\\psi(x)$\")\n",
    "# add grid, labels, legend\n",
    "title(\"Two forms of the same function\");"
   ]
  },
  {
   "cell_type": "code",
   "execution_count": null,
   "id": "0e23e8f4-1339-49cf-83e0-ca8717304bfd",
   "metadata": {},
   "outputs": [],
   "source": [
    "\n",
    "zz = psi.(xx);"
   ]
  },
  {
   "cell_type": "code",
   "execution_count": null,
   "id": "69b08065-f455-4ca8-9fa2-11e7057a927c",
   "metadata": {},
   "outputs": [],
   "source": [
    "\n",
    "plot(xx, yy, marker=\".\", label=L\"$\\phi(x)$\")\n",
    "plot(xx, zz, marker=\".\", label=L\"$\\psi(x)$\")\n",
    "# add grid, labels, legend\n",
    "title(\"Catastrophic cancellations is mitigated\");"
   ]
  },
  {
   "cell_type": "code",
   "execution_count": null,
   "id": "b8e08acf-c8a6-4499-9602-6de286f5773a",
   "metadata": {},
   "outputs": [],
   "source": []
  }
 ],
 "metadata": {
  "kernelspec": {
   "display_name": "Julia 1.10.6",
   "language": "julia",
   "name": "julia-1.10"
  },
  "language_info": {
   "file_extension": ".jl",
   "mimetype": "application/julia",
   "name": "julia",
   "version": "1.10.6"
  }
 },
 "nbformat": 4,
 "nbformat_minor": 5
}
