{
 "cells": [
  {
   "cell_type": "markdown",
   "id": "4fc24e2b-3330-4c10-8f14-3f5be5e3c3ab",
   "metadata": {},
   "source": [
    "\n",
    "## Automatic differentiation using dual numbers"
   ]
  },
  {
   "cell_type": "markdown",
   "id": "8abfac46-e73d-4efa-ad2f-fbb99c4f788d",
   "metadata": {},
   "source": [
    "Julia programming language has a pre-defined function, `cbrt`, for the cube root of a number. In contrast to the function `x^(1/3)`, `cbrt` is defined for the negative arguments. Indeed,  "
   ]
  },
  {
   "cell_type": "code",
   "execution_count": null,
   "id": "247dfef5-ef3f-46c7-bcd7-a15d1b585eab",
   "metadata": {},
   "outputs": [],
   "source": [
    "\n",
    "x = -1.0;"
   ]
  },
  {
   "cell_type": "code",
   "execution_count": null,
   "id": "014893f0-2ac7-46ef-9320-f5c2e6770236",
   "metadata": {},
   "outputs": [],
   "source": [
    "\n",
    "x^(1/3)  # this produces an error!"
   ]
  },
  {
   "cell_type": "code",
   "execution_count": null,
   "id": "fe8eb3a8-ef3d-4eb4-bbdb-e595c6b6c61d",
   "metadata": {},
   "outputs": [],
   "source": [
    "cbrt(x)  # this works!"
   ]
  },
  {
   "cell_type": "markdown",
   "id": "829e69c2-e8d9-47d0-a2bd-0fd2a84b8829",
   "metadata": {},
   "source": [
    "The goal of the assignment is to use dual numbers, as we introduce them in class, and \"teach\" julia to take derivative of `cbrt`."
   ]
  },
  {
   "cell_type": "markdown",
   "id": "89dd17b6-1794-4ead-a7c3-06e5a8831c18",
   "metadata": {},
   "source": [
    "Let's start with ploting the graph of `cbrt` (provide the axes labels, grid, title):"
   ]
  },
  {
   "cell_type": "code",
   "execution_count": null,
   "id": "192b37fb-924d-4fa6-80ae-4b55d578a149",
   "metadata": {},
   "outputs": [],
   "source": [
    "\n",
    "using PyPlot"
   ]
  },
  {
   "cell_type": "code",
   "execution_count": null,
   "id": "19496f71-7a74-42d5-9d11-0600ee34e07e",
   "metadata": {},
   "outputs": [],
   "source": [
    "m = 101\n",
    "x = range(-4.0, 4.0, m);"
   ]
  },
  {
   "cell_type": "code",
   "execution_count": null,
   "id": "57a35a6d-80dd-43e9-a9b2-c780da32ab86",
   "metadata": {},
   "outputs": [],
   "source": [
    "plot(x, cbrt.(x))\n",
    "# add grid and labels"
   ]
  },
  {
   "cell_type": "markdown",
   "id": "9dc253b0-25b1-4444-87a3-1e4321cc4ffd",
   "metadata": {},
   "source": [
    "Notice that the function is monotonously increasing, i.e. the derivative is positive, and that slope of the graph at $x = 0$ is vertical, i.e. the value of the derivative at $x = 0$ is `Inf`. "
   ]
  },
  {
   "cell_type": "markdown",
   "id": "028b2fc9-5044-4689-ae81-e259f58bc828",
   "metadata": {},
   "source": [
    "Recall, that we implemented Dual numbers as follows:"
   ]
  },
  {
   "cell_type": "code",
   "execution_count": null,
   "id": "602f1845-e54e-4f62-99a9-90e5d278c5a4",
   "metadata": {},
   "outputs": [],
   "source": [
    "# Structure representing a Dual number\n",
    "struct Dual{T<:Real}\n",
    "    val::T\n",
    "    deriv::T\n",
    "end"
   ]
  },
  {
   "cell_type": "markdown",
   "id": "445c4634-f05d-486a-ab95-7f56d4aac9f1",
   "metadata": {},
   "source": [
    "In order to teach Julia how to work with Dual numbers and `cbrt`, we need to import the function:"
   ]
  },
  {
   "cell_type": "code",
   "execution_count": null,
   "id": "46a6889c-e14a-4ca5-91dc-9ae216c12882",
   "metadata": {},
   "outputs": [],
   "source": [
    "import Base: cbrt"
   ]
  },
  {
   "cell_type": "markdown",
   "id": "c10cd9df-3588-4288-8c1e-2ff3c49e9a0b",
   "metadata": {},
   "source": [
    "The derivative of the cube root is as follows:\n",
    "\n",
    "$$\\frac{\\mathrm{d}}{\\mathrm{d}x} \\left( u^{1/3} \\right) = \\frac{1}{3} \\, \\frac{1}{\\left(u^{1/3} \\right)^2} \\, \\frac{\\mathrm{d} u}{\\mathrm{d}x} ,$$\n",
    "\n",
    "where we wrote the right hand side is the form that includes only the values of the \"original\" function $u^{1/3}$."
   ]
  },
  {
   "cell_type": "markdown",
   "id": "7ac39ae4-aea4-4ced-a4c4-439142a69c95",
   "metadata": {},
   "source": [
    "The above formula can be written using dual numbers as following:"
   ]
  },
  {
   "cell_type": "code",
   "execution_count": null,
   "id": "3917fd55-035e-4849-9224-ef2521adea3b",
   "metadata": {},
   "outputs": [],
   "source": [
    "cbrt(z::Dual) = Dual(cbrt(z.val), z.deriv/(3 * (cbrt(z.val))^2))"
   ]
  },
  {
   "cell_type": "markdown",
   "id": "a9a0aea0-f276-4002-9a9f-158ebc56375c",
   "metadata": {},
   "source": [
    "For convenience of plotting, let's define a helper function that extracts the derivative part from a dual number:"
   ]
  },
  {
   "cell_type": "code",
   "execution_count": null,
   "id": "4c6a939e-02e8-4cd0-9f63-9d2ed78a98b7",
   "metadata": {},
   "outputs": [],
   "source": [
    "extract_derivative(v::Dual) = v.deriv"
   ]
  },
  {
   "cell_type": "markdown",
   "id": "7c5ce34e-2efc-49da-9a45-987072352eda",
   "metadata": {},
   "source": [
    "We are ready to calculate and plot the derivative of cube root.\n",
    "\n",
    "First, lets convert the array `x` to an array of dual numbers corresponding to independent variable: "
   ]
  },
  {
   "cell_type": "code",
   "execution_count": null,
   "id": "b447d8dc-b383-4865-8227-c3a3ebe54fb2",
   "metadata": {},
   "outputs": [],
   "source": [
    "zz = Dual.(x, 1.0);"
   ]
  },
  {
   "cell_type": "markdown",
   "id": "70772de3-a3d4-4f92-8ffd-896e2e139f15",
   "metadata": {},
   "source": [
    "Calculate `cbrt(zz)` and extract the derivative:"
   ]
  },
  {
   "cell_type": "code",
   "execution_count": null,
   "id": "9a4598a7-2288-4982-99aa-cce7d67690b9",
   "metadata": {},
   "outputs": [],
   "source": [
    "dcbrtdx = extract_derivative.(cbrt.(zz));"
   ]
  },
  {
   "cell_type": "markdown",
   "id": "68b06164-fba9-4add-a450-1f43f6e7e277",
   "metadata": {},
   "source": [
    "Let's plot 1/dcbrtdx (instead of dcbrtdx) to avoid the divergence at $x = 0$:"
   ]
  },
  {
   "cell_type": "code",
   "execution_count": null,
   "id": "8b42ee2e-7d6a-4098-86f9-f719bb070c97",
   "metadata": {},
   "outputs": [],
   "source": [
    "plot(x, 1.0 ./ dcbrtdx, label=L\"\\left(\\frac{\\mathrm{d} x^{1/3}}{\\mathrm{d}x}\\right)^{-1}\")\n",
    "# add grid, labels, legend"
   ]
  },
  {
   "cell_type": "code",
   "execution_count": null,
   "id": "ed4e95d9-b81c-4472-a975-ded5de8b040a",
   "metadata": {},
   "outputs": [],
   "source": []
  }
 ],
 "metadata": {
  "kernelspec": {
   "display_name": "Julia 1.10.6",
   "language": "julia",
   "name": "julia-1.10"
  },
  "language_info": {
   "file_extension": ".jl",
   "mimetype": "application/julia",
   "name": "julia",
   "version": "1.10.6"
  }
 },
 "nbformat": 4,
 "nbformat_minor": 5
}
