{
 "cells": [
  {
   "cell_type": "markdown",
   "id": "f257702f-46bd-4898-9d71-4f0dde6bc643",
   "metadata": {},
   "source": [
    "### Solving nonlinear equations using Newton's method"
   ]
  },
  {
   "cell_type": "markdown",
   "id": "03f6926a-4e1f-4214-a999-50ab8f885af7",
   "metadata": {},
   "source": [
    "In numerical analysis, the Newton's method, named after Isaac Newton, is an algorithm for funding a root of the equation\n",
    "\n",
    "$$f(x) = 0 .$$\n",
    "\n",
    "The algorithm produces successively better approximations to the roots (or zeroes) of a real-valued function. The most basic version starts with a real-valued function $f(x)$, its derivative $f'(x)$, and an initial guess $x_0$ for a root of $f(x)$. Better approximations are obtained using the foollowing iteration algorithm: \n",
    "\n",
    "$$x_{n+1} = x_n - \\frac{f(x_n)}{f'(x_n)}$$"
   ]
  },
  {
   "cell_type": "markdown",
   "id": "15443906-b3df-4383-8114-3a9e93d6a7b2",
   "metadata": {},
   "source": [
    "Julia provides several high-quality packages for calculation derivatives using automatic differentiation. For this assignment, you are required to use the package `ForwardDiff`. Once you loaded the package, you can calculate the value of the derivative of a function $g(s)$ at $s = x_0$ using the following code fragment:\n",
    "\n",
    "`gderiv = ForwardDiff.derivative(g, x0)`"
   ]
  },
  {
   "cell_type": "code",
   "execution_count": null,
   "id": "375b6922-74b6-4d2b-a518-ab47ac1c5dfe",
   "metadata": {},
   "outputs": [],
   "source": [
    "\n",
    "using ForwardDiff\n",
    "using PyPlot"
   ]
  },
  {
   "cell_type": "code",
   "execution_count": null,
   "id": "1b1ca6a7-0a11-4bfa-9b75-406677251d11",
   "metadata": {},
   "outputs": [],
   "source": [
    "\n",
    "\"\"\"\n",
    "    root, niters = newton(f, x0)\n",
    "\n",
    "Find the root of the nonlinecar equation f(x) = 0 using Newton's method. \n",
    "x0 is initial approximation for the root.\n",
    "\"\"\"\n",
    "function newton(f, x0)\n",
    "    x = x0\n",
    "    delta = one(x)   # essentially arbitrary 'large' value\n",
    "    count = 0        # initialize the number of iterations\n",
    "\n",
    "    while (abs(delta) > 10 * eps()) && count < 20 \n",
    "        fval = f(x)\n",
    "        fderiv = # your code here\n",
    "        delta = - fval/fderiv\n",
    "        x += delta\n",
    "        count += 1\n",
    "        @show x, delta, count # show the results iterations\n",
    "    end\n",
    "\n",
    "    return x, count\n",
    "end"
   ]
  },
  {
   "cell_type": "markdown",
   "id": "db313585-18e0-4146-b8fc-da8f64c46a88",
   "metadata": {},
   "source": [
    "Let's solve the following nonlinear equation:\n",
    "\n",
    "$$\\tanh\\left(\\sinh(x) + cos(x)\\right) = 0 .$$"
   ]
  },
  {
   "cell_type": "code",
   "execution_count": null,
   "id": "f04df478-2359-402d-bdb4-c95f45954832",
   "metadata": {},
   "outputs": [],
   "source": [
    "\n",
    "h(x) = tanh(sinh(x) + cos(x) + 1)"
   ]
  },
  {
   "cell_type": "markdown",
   "id": "05508a5f-1677-4859-af82-87aee71a2f94",
   "metadata": {},
   "source": [
    "Plot the graph of $h(x)$ to see the position of the root and estimate an initial approximation:"
   ]
  },
  {
   "cell_type": "code",
   "execution_count": null,
   "id": "ceeff11f-aa5d-40b2-b282-bc5a88e717bd",
   "metadata": {},
   "outputs": [],
   "source": [
    "\n",
    "np = 100\n",
    "x = range(-3.0, 3.0, np)\n",
    "hh = h.(x);"
   ]
  },
  {
   "cell_type": "code",
   "execution_count": null,
   "id": "66d60719-cf8d-489d-8f35-3fe7e1803a63",
   "metadata": {},
   "outputs": [],
   "source": [
    "\n",
    "plot(x, hh, color=\"blue\", label=L\"$h(x)$\")\n",
    "grid(true)\n",
    "xlabel(\"x\")\n",
    "legend();"
   ]
  },
  {
   "cell_type": "code",
   "execution_count": null,
   "id": "9dd8c448-194c-4c30-b02f-50bf96b5afc4",
   "metadata": {},
   "outputs": [],
   "source": [
    "\n",
    "x0 = -1.0\n",
    "root, _ = newton(h, x0)"
   ]
  },
  {
   "cell_type": "code",
   "execution_count": null,
   "id": "b0109a5d-97fa-4d81-a27a-dc875eae4108",
   "metadata": {},
   "outputs": [],
   "source": [
    "\n",
    "plot(x, hh, color=\"blue\", label=L\"$h(x)$\")\n",
    "plot(root, h(root), linestyle=\"none\", marker=\"o\", markersize=4, color=\"red\", label=\"root of h(x)=0\")\n",
    "grid(true)\n",
    "xlabel(\"x\")\n",
    "legend();"
   ]
  },
  {
   "cell_type": "code",
   "execution_count": null,
   "id": "d44e776e-89f5-46f6-87a9-e13d028162f3",
   "metadata": {},
   "outputs": [],
   "source": []
  }
 ],
 "metadata": {
  "kernelspec": {
   "display_name": "Julia 1.10.6",
   "language": "julia",
   "name": "julia-1.10"
  },
  "language_info": {
   "file_extension": ".jl",
   "mimetype": "application/julia",
   "name": "julia",
   "version": "1.10.6"
  }
 },
 "nbformat": 4,
 "nbformat_minor": 5
}
